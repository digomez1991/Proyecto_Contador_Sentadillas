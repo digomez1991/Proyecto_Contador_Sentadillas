{
 "cells": [
  {
   "cell_type": "code",
   "execution_count": 1,
   "id": "7a4574fb",
   "metadata": {},
   "outputs": [],
   "source": [
    "#pip install mediapipe opencv-python"
   ]
  },
  {
   "cell_type": "markdown",
   "id": "f10e3e75",
   "metadata": {},
   "source": [
    "Se importan las librerias"
   ]
  },
  {
   "cell_type": "code",
   "execution_count": 16,
   "id": "c4e273a0",
   "metadata": {},
   "outputs": [],
   "source": [
    "import cv2\n",
    "import mediapipe as mp\n",
    "import numpy as np"
   ]
  },
  {
   "cell_type": "markdown",
   "id": "6e142d7f",
   "metadata": {},
   "source": [
    "procedemos a configurar mediapipe"
   ]
  },
  {
   "cell_type": "code",
   "execution_count": 17,
   "id": "45533c21",
   "metadata": {},
   "outputs": [],
   "source": [
    "mp_drawing = mp.solutions.drawing_utils\n",
    "mp_pose = mp.solutions.pose"
   ]
  },
  {
   "cell_type": "markdown",
   "id": "9607679f",
   "metadata": {},
   "source": [
    "## Definiciones"
   ]
  },
  {
   "cell_type": "markdown",
   "id": "b1254fc8",
   "metadata": {},
   "source": [
    "Se define una función de cálculo de ángulos"
   ]
  },
  {
   "cell_type": "code",
   "execution_count": 18,
   "id": "c7d86ab3",
   "metadata": {},
   "outputs": [],
   "source": [
    "def calculate_angle(a,b,c):\n",
    "    a = np.array(a) # First\n",
    "    b = np.array(b) # Mid\n",
    "    c = np.array(c) # End\n",
    "    \n",
    "    radians = np.arctan2(c[1]-b[1], c[0]-b[0]) - np.arctan2(a[1]-b[1], a[0]-b[0])\n",
    "    angle = np.abs(radians*180.0/np.pi)\n",
    "    \n",
    "    if angle >180.0:\n",
    "        angle = 360-angle\n",
    "        \n",
    "    return angle "
   ]
  },
  {
   "cell_type": "markdown",
   "id": "2c683300",
   "metadata": {},
   "source": [
    "## Programa"
   ]
  },
  {
   "cell_type": "code",
   "execution_count": 29,
   "id": "e340b018",
   "metadata": {},
   "outputs": [],
   "source": [
    "cap = cv2.VideoCapture(0)\n",
    "\n",
    "# definimos variables \n",
    "counter = 0 \n",
    "stage_leg = None\n",
    "\n",
    "## Setup mediapipe instance\n",
    "with mp_pose.Pose(min_detection_confidence=0.5, min_tracking_confidence=0.5) as pose:\n",
    "    while cap.isOpened():\n",
    "        ret, frame = cap.read()\n",
    "        \n",
    "        # Recolor image to RGB\n",
    "        image = cv2.cvtColor(frame, cv2.COLOR_BGR2RGB)\n",
    "        image.flags.writeable = False\n",
    "      \n",
    "        # Make detection\n",
    "        results = pose.process(image)\n",
    "    \n",
    "        # Recolor back to BGR\n",
    "        image.flags.writeable = True\n",
    "        image = cv2.cvtColor(image, cv2.COLOR_RGB2BGR)\n",
    "        \n",
    "        # Extract landmarks\n",
    "        try:\n",
    "            landmarks = results.pose_landmarks.landmark\n",
    "            \n",
    "            \n",
    "            # Get coordinates angle leg left            \n",
    "            shoulder_l = [landmarks[mp_pose.PoseLandmark.LEFT_SHOULDER.value].x,landmarks[mp_pose.PoseLandmark.LEFT_SHOULDER.value].y]\n",
    "            knee_l = [landmarks[mp_pose.PoseLandmark.LEFT_KNEE.value].x,landmarks[mp_pose.PoseLandmark.LEFT_KNEE.value].y]\n",
    "            ankle_l = [landmarks[mp_pose.PoseLandmark.LEFT_ANKLE.value].x,landmarks[mp_pose.PoseLandmark.LEFT_ANKLE.value].y]\n",
    "            \n",
    "            # Calculate angle leg-shoulder left\n",
    "            angle_l = calculate_angle(shoulder_l, hip_l, knee_l)\n",
    "            \n",
    "            # Visualize angle leg-shoulder left\n",
    "            cv2.putText(image, str(angle_l.astype(int)), \n",
    "                           tuple(np.multiply(hip_l, [640, 480]).astype(int)), \n",
    "                           cv2.FONT_HERSHEY_SIMPLEX, 0.5, (255, 255, 255), 2, cv2.LINE_AA\n",
    "                                )\n",
    "            \n",
    "            # Get coordinates angle leg right \n",
    "            shoulder_r = [landmarks[mp_pose.PoseLandmark.RIGHT_SHOULDER.value].x,landmarks[mp_pose.PoseLandmark.RIGHT_SHOULDER.value].y]\n",
    "            hip_r = [landmarks[mp_pose.PoseLandmark.RIGHT_HIP.value].x,landmarks[mp_pose.PoseLandmark.RIGHT_HIP.value].y]\n",
    "            knee_r = [landmarks[mp_pose.PoseLandmark.RIGHT_KNEE.value].x,landmarks[mp_pose.PoseLandmark.RIGHT_KNEE.value].y]\n",
    "            \n",
    "            # Calculate angle leg-shoulder right\n",
    "            angle_r = calculate_angle(shoulder_r, hip_r, knee_r)\n",
    "            \n",
    "            # Visualize angle leg-shoulder right\n",
    "            cv2.putText(image, str(angle_r.astype(int)), \n",
    "                           tuple(np.multiply(hip_r, [640, 480]).astype(int)), \n",
    "                           cv2.FONT_HERSHEY_SIMPLEX, 0.5, (255, 255, 255), 2, cv2.LINE_AA\n",
    "                                )            \n",
    "            \n",
    "            # Get coordinates angle leg left            \n",
    "            hip_l = [landmarks[mp_pose.PoseLandmark.LEFT_HIP.value].x,landmarks[mp_pose.PoseLandmark.LEFT_HIP.value].y]\n",
    "            knee_l = [landmarks[mp_pose.PoseLandmark.LEFT_KNEE.value].x,landmarks[mp_pose.PoseLandmark.LEFT_KNEE.value].y]\n",
    "            ankle_l = [landmarks[mp_pose.PoseLandmark.LEFT_ANKLE.value].x,landmarks[mp_pose.PoseLandmark.LEFT_ANKLE.value].y]\n",
    "            \n",
    "            # Calculate angle leg left\n",
    "            angle_l2 = calculate_angle(hip_l, knee_l, ankle_l)\n",
    "            \n",
    "            # Visualize angle leg left\n",
    "            cv2.putText(image, str(angle_l2.astype(int)), \n",
    "                           tuple(np.multiply(knee_l, [640, 480]).astype(int)), \n",
    "                           cv2.FONT_HERSHEY_SIMPLEX, 0.5, (255, 255, 255), 2, cv2.LINE_AA\n",
    "                                )\n",
    "            \n",
    "            # Get coordinates angle leg right\n",
    "            hip_r = [landmarks[mp_pose.PoseLandmark.RIGHT_HIP.value].x,landmarks[mp_pose.PoseLandmark.RIGHT_HIP.value].y]\n",
    "            knee_r = [landmarks[mp_pose.PoseLandmark.RIGHT_KNEE.value].x,landmarks[mp_pose.PoseLandmark.RIGHT_KNEE.value].y]\n",
    "            ankle_r = [landmarks[mp_pose.PoseLandmark.RIGHT_ANKLE.value].x,landmarks[mp_pose.PoseLandmark.RIGHT_ANKLE.value].y]           \n",
    "            \n",
    "            # Calculate angle leg right\n",
    "            angle_r2 = calculate_angle(hip_r, knee_r, ankle_r)\n",
    "            \n",
    "            # Visualize angle leg right\n",
    "            cv2.putText(image, str(angle_r2.astype(int)), \n",
    "                           tuple(np.multiply(knee_r, [640, 480]).astype(int)), \n",
    "                           cv2.FONT_HERSHEY_SIMPLEX, 0.5, (255, 255, 255), 2, cv2.LINE_AA\n",
    "                                )\n",
    "                        \n",
    "# Definimos las condiciones para que se cuenten las repeticiones\n",
    "                \n",
    "            # Rep counter logic legs\n",
    "            if angle_r2 > 160 and angle_l2 >160:\n",
    "                stage_leg =\"up\"\n",
    "            if angle_r2 < 110 and angle_l2 <110 and stage_leg==\"up\":\n",
    "                stage_leg =\"down\"\n",
    "                counter +=1    \n",
    "                \n",
    "                \n",
    "        except:\n",
    "            pass\n",
    "\n",
    "#Definimos la caja de texto y los mismos textos que aparecen en pantalla        \n",
    "        # Setup status box\n",
    "        cv2.rectangle(image, (0,0), (150,73), (245,117,16), -1)\n",
    "        \n",
    "        # Rep data\n",
    "        cv2.putText(image, 'REPS', (15,12), \n",
    "                    cv2.FONT_HERSHEY_SIMPLEX, 0.5, (0,0,0), 1, cv2.LINE_AA)\n",
    "        cv2.putText(image, str(counter), \n",
    "                    (10,60), \n",
    "                    cv2.FONT_HERSHEY_SIMPLEX, 1, (255,255,255), 2, cv2.LINE_AA)\n",
    "        \n",
    "        # Stage data left\n",
    "        cv2.putText(image, 'STAGE', (65,12), \n",
    "                    cv2.FONT_HERSHEY_SIMPLEX, 0.5, (0,0,0), 1, cv2.LINE_AA)\n",
    "        cv2.putText(image, stage_leg, \n",
    "                    (60,60), \n",
    "                    cv2.FONT_HERSHEY_SIMPLEX, 1.2, (255,255,255), 2, cv2.LINE_AA)     \n",
    "        \n",
    "        \n",
    "# Definimos condicion para cambio de color de \"esqueleto\"                \n",
    "        if 150 < angle_r < 170 and 150 < angle_l < 170 or stage_leg ==\"down\":\n",
    "            mp_drawing.draw_landmarks(image, results.pose_landmarks, mp_pose.POSE_CONNECTIONS,\n",
    "                                mp_drawing.DrawingSpec(color=(35,130,45), thickness=2, circle_radius=2), \n",
    "                                mp_drawing.DrawingSpec(color=(35,130,45), thickness=2, circle_radius=2) \n",
    "                                 )         \n",
    "        else:\n",
    "        \n",
    "            mp_drawing.draw_landmarks(image, results.pose_landmarks, mp_pose.POSE_CONNECTIONS,\n",
    "                                mp_drawing.DrawingSpec(color=(245,117,66), thickness=2, circle_radius=2), #punto \n",
    "                                mp_drawing.DrawingSpec(color=(245,66,230), thickness=2, circle_radius=2)  #linea\n",
    "                                 )               \n",
    "        \n",
    "        \n",
    "        \n",
    "        cv2.imshow('Mediapipe Feed', image)\n",
    "\n",
    "# Cierre de programa apretando letra \"q\"\n",
    "        if cv2.waitKey(10) & 0xFF == ord('q'):\n",
    "            break\n",
    "\n",
    "    cap.release()\n",
    "    cv2.destroyAllWindows()"
   ]
  },
  {
   "cell_type": "code",
   "execution_count": null,
   "id": "7f0fc217",
   "metadata": {},
   "outputs": [],
   "source": []
  }
 ],
 "metadata": {
  "kernelspec": {
   "display_name": "Python 3 (ipykernel)",
   "language": "python",
   "name": "python3"
  },
  "language_info": {
   "codemirror_mode": {
    "name": "ipython",
    "version": 3
   },
   "file_extension": ".py",
   "mimetype": "text/x-python",
   "name": "python",
   "nbconvert_exporter": "python",
   "pygments_lexer": "ipython3",
   "version": "3.9.13"
  }
 },
 "nbformat": 4,
 "nbformat_minor": 5
}
